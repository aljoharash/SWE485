{
 "cells": [
  {
   "cell_type": "code",
   "execution_count": 1,
   "id": "b83a8cd0",
   "metadata": {},
   "outputs": [],
   "source": [
    "import pandas as pd\n",
    "import matplotlib.pyplot as plt\n",
    "import seaborn as sns\n",
    "import missingno as msno\n",
    "import numpy as np\n",
    "import statistics"
   ]
  },
  {
   "cell_type": "code",
   "execution_count": 2,
   "id": "db3b066e",
   "metadata": {},
   "outputs": [],
   "source": [
    "data=pd.read_csv(\"Dataset/fastfood.csv\")"
   ]
  },
  {
   "attachments": {},
   "cell_type": "markdown",
   "id": "47085833",
   "metadata": {},
   "source": [
    "**The goal of collecting this dataset**\n",
    "\n",
    "Fast food is known for its convenience and affordability, but it is also infamous for its high-calorie, high-fat, \n",
    "and high-sugar content. This dataset aims to shed light on the nutritional value of these fast food products, helping consumers make more informed decisions about their food choices.\n",
    "\n",
    "With information on calories, fat, carbohydrates, protein, and other key nutrients, this dataset provides a valuable resource for nutritionists, researchers, and health-conscious individuals. By analyzing this dataset, we can gain a better understanding of the nutritional impact of fast food consumption and work towards creating healthier food options in the fast food industry."
   ]
  },
  {
   "attachments": {},
   "cell_type": "markdown",
   "id": "70b301ac",
   "metadata": {},
   "source": [
    "**Data**\n",
    "\n",
    "The dataset we choose is(Fast Food Nutrition) which provides a comprehensive breakdown of the nutritional content of various fast food products from popular fast food chains. We got our dataset from Kaggle website, URL of source data: https://www.kaggle.com/datasets/ulrikthygepedersen/fastfood-nutrition"
   ]
  },
  {
   "cell_type": "code",
   "execution_count": 4,
   "id": "4a2de902",
   "metadata": {},
   "outputs": [
    {
     "data": {
      "text/plain": [
       "515"
      ]
     },
     "execution_count": 4,
     "metadata": {},
     "output_type": "execute_result"
    }
   ],
   "source": [
    "#Number of observations \n",
    "len(data)"
   ]
  },
  {
   "attachments": {},
   "cell_type": "markdown",
   "id": "15623901",
   "metadata": {},
   "source": [
    "Our dataset consists of 515 records."
   ]
  },
  {
   "cell_type": "code",
   "execution_count": 5,
   "id": "57b4e695",
   "metadata": {},
   "outputs": [
    {
     "data": {
      "text/plain": [
       "17"
      ]
     },
     "execution_count": 5,
     "metadata": {},
     "output_type": "execute_result"
    }
   ],
   "source": [
    "#Number of variables \n",
    "data.shape[1]"
   ]
  },
  {
   "attachments": {},
   "cell_type": "markdown",
   "id": "9ad5f9c1",
   "metadata": {},
   "source": [
    "Our dataset consists of 17 variables."
   ]
  },
  {
   "cell_type": "code",
   "execution_count": 15,
   "id": "10ba021b",
   "metadata": {},
   "outputs": [
    {
     "data": {
      "text/plain": [
       "restaurant      object\n",
       "item            object\n",
       "calories         int64\n",
       "cal_fat          int64\n",
       "total_fat        int64\n",
       "sat_fat        float64\n",
       "trans_fat      float64\n",
       "cholesterol      int64\n",
       "sodium           int64\n",
       "total_carb       int64\n",
       "fiber          float64\n",
       "sugar            int64\n",
       "protein        float64\n",
       "vit_a          float64\n",
       "vit_c          float64\n",
       "calcium        float64\n",
       "salad           object\n",
       "dtype: object"
      ]
     },
     "execution_count": 15,
     "metadata": {},
     "output_type": "execute_result"
    }
   ],
   "source": [
    "#Data type of each variable \n",
    "data.dtypes"
   ]
  },
  {
   "cell_type": "code",
   "execution_count": 7,
   "id": "beb9dfaa",
   "metadata": {},
   "outputs": [
    {
     "data": {
      "text/html": [
       "<div>\n",
       "<style scoped>\n",
       "    .dataframe tbody tr th:only-of-type {\n",
       "        vertical-align: middle;\n",
       "    }\n",
       "\n",
       "    .dataframe tbody tr th {\n",
       "        vertical-align: top;\n",
       "    }\n",
       "\n",
       "    .dataframe thead th {\n",
       "        text-align: right;\n",
       "    }\n",
       "</style>\n",
       "<table border=\"1\" class=\"dataframe\">\n",
       "  <thead>\n",
       "    <tr style=\"text-align: right;\">\n",
       "      <th></th>\n",
       "      <th>restaurant</th>\n",
       "      <th>item</th>\n",
       "      <th>calories</th>\n",
       "      <th>cal_fat</th>\n",
       "      <th>total_fat</th>\n",
       "      <th>sat_fat</th>\n",
       "      <th>trans_fat</th>\n",
       "      <th>cholesterol</th>\n",
       "      <th>sodium</th>\n",
       "      <th>total_carb</th>\n",
       "      <th>fiber</th>\n",
       "      <th>sugar</th>\n",
       "      <th>protein</th>\n",
       "      <th>vit_a</th>\n",
       "      <th>vit_c</th>\n",
       "      <th>calcium</th>\n",
       "      <th>salad</th>\n",
       "    </tr>\n",
       "  </thead>\n",
       "  <tbody>\n",
       "    <tr>\n",
       "      <th>0</th>\n",
       "      <td>Mcdonalds</td>\n",
       "      <td>Artisan Grilled Chicken Sandwich</td>\n",
       "      <td>380</td>\n",
       "      <td>60</td>\n",
       "      <td>7</td>\n",
       "      <td>2.0</td>\n",
       "      <td>0.0</td>\n",
       "      <td>95</td>\n",
       "      <td>1110</td>\n",
       "      <td>44</td>\n",
       "      <td>3.0</td>\n",
       "      <td>11</td>\n",
       "      <td>37.0</td>\n",
       "      <td>4.0</td>\n",
       "      <td>20.0</td>\n",
       "      <td>20.0</td>\n",
       "      <td>Other</td>\n",
       "    </tr>\n",
       "    <tr>\n",
       "      <th>1</th>\n",
       "      <td>Mcdonalds</td>\n",
       "      <td>Single Bacon Smokehouse Burger</td>\n",
       "      <td>840</td>\n",
       "      <td>410</td>\n",
       "      <td>45</td>\n",
       "      <td>17.0</td>\n",
       "      <td>1.5</td>\n",
       "      <td>130</td>\n",
       "      <td>1580</td>\n",
       "      <td>62</td>\n",
       "      <td>2.0</td>\n",
       "      <td>18</td>\n",
       "      <td>46.0</td>\n",
       "      <td>6.0</td>\n",
       "      <td>20.0</td>\n",
       "      <td>20.0</td>\n",
       "      <td>Other</td>\n",
       "    </tr>\n",
       "    <tr>\n",
       "      <th>2</th>\n",
       "      <td>Mcdonalds</td>\n",
       "      <td>Double Bacon Smokehouse Burger</td>\n",
       "      <td>1130</td>\n",
       "      <td>600</td>\n",
       "      <td>67</td>\n",
       "      <td>27.0</td>\n",
       "      <td>3.0</td>\n",
       "      <td>220</td>\n",
       "      <td>1920</td>\n",
       "      <td>63</td>\n",
       "      <td>3.0</td>\n",
       "      <td>18</td>\n",
       "      <td>70.0</td>\n",
       "      <td>10.0</td>\n",
       "      <td>20.0</td>\n",
       "      <td>50.0</td>\n",
       "      <td>Other</td>\n",
       "    </tr>\n",
       "    <tr>\n",
       "      <th>3</th>\n",
       "      <td>Mcdonalds</td>\n",
       "      <td>Grilled Bacon Smokehouse Chicken Sandwich</td>\n",
       "      <td>750</td>\n",
       "      <td>280</td>\n",
       "      <td>31</td>\n",
       "      <td>10.0</td>\n",
       "      <td>0.5</td>\n",
       "      <td>155</td>\n",
       "      <td>1940</td>\n",
       "      <td>62</td>\n",
       "      <td>2.0</td>\n",
       "      <td>18</td>\n",
       "      <td>55.0</td>\n",
       "      <td>6.0</td>\n",
       "      <td>25.0</td>\n",
       "      <td>20.0</td>\n",
       "      <td>Other</td>\n",
       "    </tr>\n",
       "    <tr>\n",
       "      <th>4</th>\n",
       "      <td>Mcdonalds</td>\n",
       "      <td>Crispy Bacon Smokehouse Chicken Sandwich</td>\n",
       "      <td>920</td>\n",
       "      <td>410</td>\n",
       "      <td>45</td>\n",
       "      <td>12.0</td>\n",
       "      <td>0.5</td>\n",
       "      <td>120</td>\n",
       "      <td>1980</td>\n",
       "      <td>81</td>\n",
       "      <td>4.0</td>\n",
       "      <td>18</td>\n",
       "      <td>46.0</td>\n",
       "      <td>6.0</td>\n",
       "      <td>20.0</td>\n",
       "      <td>20.0</td>\n",
       "      <td>Other</td>\n",
       "    </tr>\n",
       "    <tr>\n",
       "      <th>5</th>\n",
       "      <td>Mcdonalds</td>\n",
       "      <td>Big Mac</td>\n",
       "      <td>540</td>\n",
       "      <td>250</td>\n",
       "      <td>28</td>\n",
       "      <td>10.0</td>\n",
       "      <td>1.0</td>\n",
       "      <td>80</td>\n",
       "      <td>950</td>\n",
       "      <td>46</td>\n",
       "      <td>3.0</td>\n",
       "      <td>9</td>\n",
       "      <td>25.0</td>\n",
       "      <td>10.0</td>\n",
       "      <td>2.0</td>\n",
       "      <td>15.0</td>\n",
       "      <td>Other</td>\n",
       "    </tr>\n",
       "    <tr>\n",
       "      <th>6</th>\n",
       "      <td>Mcdonalds</td>\n",
       "      <td>Cheeseburger</td>\n",
       "      <td>300</td>\n",
       "      <td>100</td>\n",
       "      <td>12</td>\n",
       "      <td>5.0</td>\n",
       "      <td>0.5</td>\n",
       "      <td>40</td>\n",
       "      <td>680</td>\n",
       "      <td>33</td>\n",
       "      <td>2.0</td>\n",
       "      <td>7</td>\n",
       "      <td>15.0</td>\n",
       "      <td>10.0</td>\n",
       "      <td>2.0</td>\n",
       "      <td>10.0</td>\n",
       "      <td>Other</td>\n",
       "    </tr>\n",
       "    <tr>\n",
       "      <th>7</th>\n",
       "      <td>Mcdonalds</td>\n",
       "      <td>Classic Chicken Sandwich</td>\n",
       "      <td>510</td>\n",
       "      <td>210</td>\n",
       "      <td>24</td>\n",
       "      <td>4.0</td>\n",
       "      <td>0.0</td>\n",
       "      <td>65</td>\n",
       "      <td>1040</td>\n",
       "      <td>49</td>\n",
       "      <td>3.0</td>\n",
       "      <td>6</td>\n",
       "      <td>25.0</td>\n",
       "      <td>0.0</td>\n",
       "      <td>4.0</td>\n",
       "      <td>2.0</td>\n",
       "      <td>Other</td>\n",
       "    </tr>\n",
       "    <tr>\n",
       "      <th>8</th>\n",
       "      <td>Mcdonalds</td>\n",
       "      <td>Double Cheeseburger</td>\n",
       "      <td>430</td>\n",
       "      <td>190</td>\n",
       "      <td>21</td>\n",
       "      <td>11.0</td>\n",
       "      <td>1.0</td>\n",
       "      <td>85</td>\n",
       "      <td>1040</td>\n",
       "      <td>35</td>\n",
       "      <td>2.0</td>\n",
       "      <td>7</td>\n",
       "      <td>25.0</td>\n",
       "      <td>20.0</td>\n",
       "      <td>4.0</td>\n",
       "      <td>15.0</td>\n",
       "      <td>Other</td>\n",
       "    </tr>\n",
       "    <tr>\n",
       "      <th>9</th>\n",
       "      <td>Mcdonalds</td>\n",
       "      <td>Double Quarter Pounder® with Cheese</td>\n",
       "      <td>770</td>\n",
       "      <td>400</td>\n",
       "      <td>45</td>\n",
       "      <td>21.0</td>\n",
       "      <td>2.5</td>\n",
       "      <td>175</td>\n",
       "      <td>1290</td>\n",
       "      <td>42</td>\n",
       "      <td>3.0</td>\n",
       "      <td>10</td>\n",
       "      <td>51.0</td>\n",
       "      <td>20.0</td>\n",
       "      <td>6.0</td>\n",
       "      <td>20.0</td>\n",
       "      <td>Other</td>\n",
       "    </tr>\n",
       "  </tbody>\n",
       "</table>\n",
       "</div>"
      ],
      "text/plain": [
       "  restaurant                                       item  calories  cal_fat  \\\n",
       "0  Mcdonalds           Artisan Grilled Chicken Sandwich       380       60   \n",
       "1  Mcdonalds             Single Bacon Smokehouse Burger       840      410   \n",
       "2  Mcdonalds             Double Bacon Smokehouse Burger      1130      600   \n",
       "3  Mcdonalds  Grilled Bacon Smokehouse Chicken Sandwich       750      280   \n",
       "4  Mcdonalds   Crispy Bacon Smokehouse Chicken Sandwich       920      410   \n",
       "5  Mcdonalds                                    Big Mac       540      250   \n",
       "6  Mcdonalds                               Cheeseburger       300      100   \n",
       "7  Mcdonalds                   Classic Chicken Sandwich       510      210   \n",
       "8  Mcdonalds                        Double Cheeseburger       430      190   \n",
       "9  Mcdonalds        Double Quarter Pounder® with Cheese       770      400   \n",
       "\n",
       "   total_fat  sat_fat  trans_fat  cholesterol  sodium  total_carb  fiber  \\\n",
       "0          7      2.0        0.0           95    1110          44    3.0   \n",
       "1         45     17.0        1.5          130    1580          62    2.0   \n",
       "2         67     27.0        3.0          220    1920          63    3.0   \n",
       "3         31     10.0        0.5          155    1940          62    2.0   \n",
       "4         45     12.0        0.5          120    1980          81    4.0   \n",
       "5         28     10.0        1.0           80     950          46    3.0   \n",
       "6         12      5.0        0.5           40     680          33    2.0   \n",
       "7         24      4.0        0.0           65    1040          49    3.0   \n",
       "8         21     11.0        1.0           85    1040          35    2.0   \n",
       "9         45     21.0        2.5          175    1290          42    3.0   \n",
       "\n",
       "   sugar  protein  vit_a  vit_c  calcium  salad  \n",
       "0     11     37.0    4.0   20.0     20.0  Other  \n",
       "1     18     46.0    6.0   20.0     20.0  Other  \n",
       "2     18     70.0   10.0   20.0     50.0  Other  \n",
       "3     18     55.0    6.0   25.0     20.0  Other  \n",
       "4     18     46.0    6.0   20.0     20.0  Other  \n",
       "5      9     25.0   10.0    2.0     15.0  Other  \n",
       "6      7     15.0   10.0    2.0     10.0  Other  \n",
       "7      6     25.0    0.0    4.0      2.0  Other  \n",
       "8      7     25.0   20.0    4.0     15.0  Other  \n",
       "9     10     51.0   20.0    6.0     20.0  Other  "
      ]
     },
     "execution_count": 7,
     "metadata": {},
     "output_type": "execute_result"
    }
   ],
   "source": [
    "#The 10 first records in the dataset\n",
    "data.head(10)"
   ]
  },
  {
   "attachments": {},
   "cell_type": "markdown",
   "id": "3564db7d",
   "metadata": {},
   "source": [
    "**Some information about the dataset:**"
   ]
  },
  {
   "cell_type": "code",
   "execution_count": 8,
   "id": "d9bd9bdb",
   "metadata": {},
   "outputs": [
    {
     "data": {
      "text/html": [
       "<div>\n",
       "<style scoped>\n",
       "    .dataframe tbody tr th:only-of-type {\n",
       "        vertical-align: middle;\n",
       "    }\n",
       "\n",
       "    .dataframe tbody tr th {\n",
       "        vertical-align: top;\n",
       "    }\n",
       "\n",
       "    .dataframe thead th {\n",
       "        text-align: right;\n",
       "    }\n",
       "</style>\n",
       "<table border=\"1\" class=\"dataframe\">\n",
       "  <thead>\n",
       "    <tr style=\"text-align: right;\">\n",
       "      <th></th>\n",
       "      <th>calories</th>\n",
       "      <th>cal_fat</th>\n",
       "      <th>total_fat</th>\n",
       "      <th>sat_fat</th>\n",
       "      <th>trans_fat</th>\n",
       "      <th>cholesterol</th>\n",
       "      <th>sodium</th>\n",
       "      <th>total_carb</th>\n",
       "      <th>fiber</th>\n",
       "      <th>sugar</th>\n",
       "      <th>protein</th>\n",
       "      <th>vit_a</th>\n",
       "      <th>vit_c</th>\n",
       "      <th>calcium</th>\n",
       "    </tr>\n",
       "  </thead>\n",
       "  <tbody>\n",
       "    <tr>\n",
       "      <th>count</th>\n",
       "      <td>515.000000</td>\n",
       "      <td>515.000000</td>\n",
       "      <td>515.000000</td>\n",
       "      <td>515.000000</td>\n",
       "      <td>515.000000</td>\n",
       "      <td>515.000000</td>\n",
       "      <td>515.000000</td>\n",
       "      <td>515.000000</td>\n",
       "      <td>503.000000</td>\n",
       "      <td>515.000000</td>\n",
       "      <td>514.000000</td>\n",
       "      <td>301.000000</td>\n",
       "      <td>305.000000</td>\n",
       "      <td>305.000000</td>\n",
       "    </tr>\n",
       "    <tr>\n",
       "      <th>mean</th>\n",
       "      <td>530.912621</td>\n",
       "      <td>238.813592</td>\n",
       "      <td>26.590291</td>\n",
       "      <td>8.153398</td>\n",
       "      <td>0.465049</td>\n",
       "      <td>72.456311</td>\n",
       "      <td>1246.737864</td>\n",
       "      <td>45.664078</td>\n",
       "      <td>4.137177</td>\n",
       "      <td>7.262136</td>\n",
       "      <td>27.891051</td>\n",
       "      <td>18.857143</td>\n",
       "      <td>20.170492</td>\n",
       "      <td>24.852459</td>\n",
       "    </tr>\n",
       "    <tr>\n",
       "      <th>std</th>\n",
       "      <td>282.436147</td>\n",
       "      <td>166.407510</td>\n",
       "      <td>18.411876</td>\n",
       "      <td>6.418811</td>\n",
       "      <td>0.839644</td>\n",
       "      <td>63.160406</td>\n",
       "      <td>689.954278</td>\n",
       "      <td>24.883342</td>\n",
       "      <td>3.037460</td>\n",
       "      <td>6.761301</td>\n",
       "      <td>17.683921</td>\n",
       "      <td>31.384330</td>\n",
       "      <td>30.592243</td>\n",
       "      <td>25.522073</td>\n",
       "    </tr>\n",
       "    <tr>\n",
       "      <th>min</th>\n",
       "      <td>20.000000</td>\n",
       "      <td>0.000000</td>\n",
       "      <td>0.000000</td>\n",
       "      <td>0.000000</td>\n",
       "      <td>0.000000</td>\n",
       "      <td>0.000000</td>\n",
       "      <td>15.000000</td>\n",
       "      <td>0.000000</td>\n",
       "      <td>0.000000</td>\n",
       "      <td>0.000000</td>\n",
       "      <td>1.000000</td>\n",
       "      <td>0.000000</td>\n",
       "      <td>0.000000</td>\n",
       "      <td>0.000000</td>\n",
       "    </tr>\n",
       "    <tr>\n",
       "      <th>25%</th>\n",
       "      <td>330.000000</td>\n",
       "      <td>120.000000</td>\n",
       "      <td>14.000000</td>\n",
       "      <td>4.000000</td>\n",
       "      <td>0.000000</td>\n",
       "      <td>35.000000</td>\n",
       "      <td>800.000000</td>\n",
       "      <td>28.500000</td>\n",
       "      <td>2.000000</td>\n",
       "      <td>3.000000</td>\n",
       "      <td>16.000000</td>\n",
       "      <td>4.000000</td>\n",
       "      <td>4.000000</td>\n",
       "      <td>8.000000</td>\n",
       "    </tr>\n",
       "    <tr>\n",
       "      <th>50%</th>\n",
       "      <td>490.000000</td>\n",
       "      <td>210.000000</td>\n",
       "      <td>23.000000</td>\n",
       "      <td>7.000000</td>\n",
       "      <td>0.000000</td>\n",
       "      <td>60.000000</td>\n",
       "      <td>1110.000000</td>\n",
       "      <td>44.000000</td>\n",
       "      <td>3.000000</td>\n",
       "      <td>6.000000</td>\n",
       "      <td>24.500000</td>\n",
       "      <td>10.000000</td>\n",
       "      <td>10.000000</td>\n",
       "      <td>20.000000</td>\n",
       "    </tr>\n",
       "    <tr>\n",
       "      <th>75%</th>\n",
       "      <td>690.000000</td>\n",
       "      <td>310.000000</td>\n",
       "      <td>35.000000</td>\n",
       "      <td>11.000000</td>\n",
       "      <td>1.000000</td>\n",
       "      <td>95.000000</td>\n",
       "      <td>1550.000000</td>\n",
       "      <td>57.000000</td>\n",
       "      <td>5.000000</td>\n",
       "      <td>9.000000</td>\n",
       "      <td>36.000000</td>\n",
       "      <td>20.000000</td>\n",
       "      <td>30.000000</td>\n",
       "      <td>30.000000</td>\n",
       "    </tr>\n",
       "    <tr>\n",
       "      <th>max</th>\n",
       "      <td>2430.000000</td>\n",
       "      <td>1270.000000</td>\n",
       "      <td>141.000000</td>\n",
       "      <td>47.000000</td>\n",
       "      <td>8.000000</td>\n",
       "      <td>805.000000</td>\n",
       "      <td>6080.000000</td>\n",
       "      <td>156.000000</td>\n",
       "      <td>17.000000</td>\n",
       "      <td>87.000000</td>\n",
       "      <td>186.000000</td>\n",
       "      <td>180.000000</td>\n",
       "      <td>400.000000</td>\n",
       "      <td>290.000000</td>\n",
       "    </tr>\n",
       "  </tbody>\n",
       "</table>\n",
       "</div>"
      ],
      "text/plain": [
       "          calories      cal_fat   total_fat     sat_fat   trans_fat  \\\n",
       "count   515.000000   515.000000  515.000000  515.000000  515.000000   \n",
       "mean    530.912621   238.813592   26.590291    8.153398    0.465049   \n",
       "std     282.436147   166.407510   18.411876    6.418811    0.839644   \n",
       "min      20.000000     0.000000    0.000000    0.000000    0.000000   \n",
       "25%     330.000000   120.000000   14.000000    4.000000    0.000000   \n",
       "50%     490.000000   210.000000   23.000000    7.000000    0.000000   \n",
       "75%     690.000000   310.000000   35.000000   11.000000    1.000000   \n",
       "max    2430.000000  1270.000000  141.000000   47.000000    8.000000   \n",
       "\n",
       "       cholesterol       sodium  total_carb       fiber       sugar  \\\n",
       "count   515.000000   515.000000  515.000000  503.000000  515.000000   \n",
       "mean     72.456311  1246.737864   45.664078    4.137177    7.262136   \n",
       "std      63.160406   689.954278   24.883342    3.037460    6.761301   \n",
       "min       0.000000    15.000000    0.000000    0.000000    0.000000   \n",
       "25%      35.000000   800.000000   28.500000    2.000000    3.000000   \n",
       "50%      60.000000  1110.000000   44.000000    3.000000    6.000000   \n",
       "75%      95.000000  1550.000000   57.000000    5.000000    9.000000   \n",
       "max     805.000000  6080.000000  156.000000   17.000000   87.000000   \n",
       "\n",
       "          protein       vit_a       vit_c     calcium  \n",
       "count  514.000000  301.000000  305.000000  305.000000  \n",
       "mean    27.891051   18.857143   20.170492   24.852459  \n",
       "std     17.683921   31.384330   30.592243   25.522073  \n",
       "min      1.000000    0.000000    0.000000    0.000000  \n",
       "25%     16.000000    4.000000    4.000000    8.000000  \n",
       "50%     24.500000   10.000000   10.000000   20.000000  \n",
       "75%     36.000000   20.000000   30.000000   30.000000  \n",
       "max    186.000000  180.000000  400.000000  290.000000  "
      ]
     },
     "execution_count": 8,
     "metadata": {},
     "output_type": "execute_result"
    }
   ],
   "source": [
    "#The mean of the datase:\n",
    "data.describe()"
   ]
  },
  {
   "cell_type": "code",
   "execution_count": 10,
   "id": "c0840176",
   "metadata": {},
   "outputs": [
    {
     "data": {
      "text/plain": [
       "restaurant       0\n",
       "item             0\n",
       "calories         0\n",
       "cal_fat          0\n",
       "total_fat        0\n",
       "sat_fat          0\n",
       "trans_fat        0\n",
       "cholesterol      0\n",
       "sodium           0\n",
       "total_carb       0\n",
       "fiber           12\n",
       "sugar            0\n",
       "protein          1\n",
       "vit_a          214\n",
       "vit_c          210\n",
       "calcium        210\n",
       "salad            0\n",
       "dtype: int64"
      ]
     },
     "execution_count": 10,
     "metadata": {},
     "output_type": "execute_result"
    }
   ],
   "source": [
    "#find out if there is any missing values\n",
    "data.isnull().sum()"
   ]
  },
  {
   "cell_type": "code",
   "execution_count": 16,
   "id": "c952eafc",
   "metadata": {},
   "outputs": [
    {
     "name": "stderr",
     "output_type": "stream",
     "text": [
      "/var/folders/hw/3shdwcfs4lg6d8bwc57g_gd80000gn/T/ipykernel_60808/1091818748.py:2: FutureWarning: Dropping of nuisance columns in DataFrame reductions (with 'numeric_only=None') is deprecated; in a future version this will raise TypeError.  Select only valid columns before calling the reduction.\n",
      "  data.var()\n"
     ]
    },
    {
     "data": {
      "text/plain": [
       "calories        79770.177175\n",
       "cal_fat         27691.459348\n",
       "total_fat         338.997182\n",
       "sat_fat            41.201131\n",
       "trans_fat           0.705002\n",
       "cholesterol      3989.236901\n",
       "sodium         476036.905859\n",
       "total_carb        619.180711\n",
       "fiber               9.226165\n",
       "sugar              45.715198\n",
       "protein           312.721050\n",
       "vit_a             984.976190\n",
       "vit_c             935.885311\n",
       "calcium           651.376186\n",
       "dtype: float64"
      ]
     },
     "execution_count": 16,
     "metadata": {},
     "output_type": "execute_result"
    }
   ],
   "source": [
    "#calculate the variance\n",
    "data.var()"
   ]
  },
  {
   "cell_type": "code",
   "execution_count": null,
   "id": "885cb442",
   "metadata": {},
   "outputs": [],
   "source": [
    "# data visualization of calories\n",
    "data.hist(column='calories')"
   ]
  },
  {
   "cell_type": "code",
   "execution_count": null,
   "id": "5aafe79f",
   "metadata": {},
   "outputs": [],
   "source": [
    "# data visualization of cal_fat\n",
    "data.hist(column='cal_fat')"
   ]
  },
  {
   "cell_type": "code",
   "execution_count": null,
   "id": "dea888e0",
   "metadata": {},
   "outputs": [],
   "source": [
    "# data visualization of total_fat\n",
    "data.hist(column='total_fat')"
   ]
  },
  {
   "cell_type": "code",
   "execution_count": null,
   "id": "0301c28f",
   "metadata": {},
   "outputs": [],
   "source": [
    "# data visualization of sat_fat\n",
    "data.hist(column='sat_fat')"
   ]
  },
  {
   "cell_type": "code",
   "execution_count": null,
   "id": "418df172",
   "metadata": {},
   "outputs": [],
   "source": [
    "# data visualization of trans_fat\n",
    "data.hist(column='trans_fat')"
   ]
  },
  {
   "cell_type": "code",
   "execution_count": null,
   "id": "965ba2e8",
   "metadata": {},
   "outputs": [],
   "source": [
    "# data visualization of cholesterol\n",
    "data.hist(column='cholesterol')"
   ]
  },
  {
   "cell_type": "code",
   "execution_count": null,
   "id": "53752fe4",
   "metadata": {},
   "outputs": [],
   "source": [
    "# data visualization of sodium\n",
    "data.hist(column='sodium')"
   ]
  },
  {
   "cell_type": "code",
   "execution_count": null,
   "id": "7cad4613",
   "metadata": {},
   "outputs": [],
   "source": [
    "# data visualization of total_carb\n",
    "data.hist(column='total_carb')"
   ]
  },
  {
   "cell_type": "code",
   "execution_count": null,
   "id": "c4021ba0",
   "metadata": {},
   "outputs": [],
   "source": [
    "# data visualization of fiber\n",
    "data.hist(column='fiber')"
   ]
  },
  {
   "cell_type": "code",
   "execution_count": null,
   "id": "12842562",
   "metadata": {},
   "outputs": [],
   "source": [
    "# data visualization of sugar\n",
    "data.hist(column='sugar')"
   ]
  },
  {
   "cell_type": "code",
   "execution_count": null,
   "id": "d65db025",
   "metadata": {},
   "outputs": [],
   "source": [
    "# data visualization of protein\n",
    "data.hist(column='protein')"
   ]
  },
  {
   "cell_type": "code",
   "execution_count": null,
   "id": "df3e1945",
   "metadata": {},
   "outputs": [],
   "source": [
    "# data visualization of vit_a\n",
    "data.hist(column='vit_a')"
   ]
  },
  {
   "cell_type": "code",
   "execution_count": null,
   "id": "65fa15a0",
   "metadata": {},
   "outputs": [],
   "source": [
    "# data visualization of vit_c\n",
    "data.hist(column='vit_c')"
   ]
  },
  {
   "cell_type": "code",
   "execution_count": null,
   "id": "da31ed23",
   "metadata": {},
   "outputs": [],
   "source": [
    "# data visualization of calcium\n",
    "data.hist(column='calcium')"
   ]
  },
  {
   "cell_type": "code",
   "execution_count": null,
   "id": "ce48b1df",
   "metadata": {},
   "outputs": [],
   "source": [
    "#joint plot diagram shows each nutrition column\n",
    "sns.jointplot(data= data, dropna =True)\n",
    "plt.show()"
   ]
  },
  {
   "cell_type": "code",
   "execution_count": null,
   "id": "a8c3616c",
   "metadata": {},
   "outputs": [],
   "source": [
    "# missing values visualizing using bar chart\n",
    "msno.bar(data)"
   ]
  },
  {
   "cell_type": "code",
   "execution_count": null,
   "id": "ac1af861",
   "metadata": {},
   "outputs": [],
   "source": [
    "# calculating mean \n",
    "meancal = data['calories'].mean()\n",
    "meancal_fat = data['cal_fat'].mean()\n",
    "meantotal_fat = data['total_fat'].mean()\n",
    "meansat_fat = data['sat_fat'].mean()\n",
    "meantrans_fat = data['trans_fat'].mean()\n",
    "meancholesterol = data['cholesterol'].mean()\n",
    "meansodium = data['sodium'].mean()\n",
    "meantotal_carb = data['total_carb'].mean()\n",
    "meanfiber = data['fiber'].mean()\n",
    "meansugar = data['sugar'].mean()\n",
    "meanprotein = data['protein'].mean()\n",
    "meanvit_a = data['vit_a'].mean()\n",
    "meanvit_c = data['vit_c'].mean()\n",
    "meancalcium = data['calcium'].mean()\n",
    "\n",
    "print(\"Calories mean: \" , meancal)\n",
    "print(\"Cal_Fat mean: \" , meancal_fat)\n",
    "print(\"Total Fat mean: \" , meantotal_fat)\n",
    "print(\"Sat_fat mean: \" , meansat_fat)\n",
    "print(\"Trans_fat mean: \" , meantrans_fat)\n",
    "print(\"Cholesterol mean: \" , meancholesterol)\n",
    "print(\"Sodium mean: \" , meansodium)\n",
    "print(\"Total Carb mean: \" , meantotal_carb)\n",
    "print(\"Fiber mean: \" , meanfiber)\n",
    "print(\"Sugar mean: \" , meansugar)\n",
    "print(\"Protein mean: \" , meanprotein)\n",
    "print(\"Vit A mean: \" , meanvit_a)\n",
    "print(\"Vit C mean: \" , meanvit_c)\n",
    "print(\"Calcium mean: \" , meancalcium)"
   ]
  },
  {
   "attachments": {},
   "cell_type": "markdown",
   "id": "52c3ffef",
   "metadata": {},
   "source": [
    "# Data Preprocessing \n",
    "#  Drop unneeded columns\n",
    "We decided to remove the Salad column since most of the items are not salads.and vit_a, vit_c and calcium since they contain a lot of missing values\n",
    "#  Convert some data types\n",
    "We have also decided to convert some of the columns types since some of them are of type object and they are needed to converted to string.\n",
    "#  Drop rows with missing values\n",
    "we have also decided that we don't need any item that does not contain all the nutritions information\n",
    "#  Normalization\n",
    "Last thing we should do is normalization on the some columns of the dataset"
   ]
  },
  {
   "cell_type": "code",
   "execution_count": null,
   "id": "dc22347b",
   "metadata": {},
   "outputs": [],
   "source": [
    "# first we have to get the dataset info \n",
    "data.info()"
   ]
  },
  {
   "cell_type": "code",
   "execution_count": null,
   "id": "115f8e82",
   "metadata": {},
   "outputs": [],
   "source": [
    "#We will drop unneeded columnn such as the salad, vit_a, vit_c and calcium \n",
    "data.drop(columns='salad', inplace=True, axis=1)\n",
    "data.drop(columns='vit_a', inplace=True, axis=1)\n",
    "data.drop(columns='vit_c', inplace=True, axis=1)\n",
    "data.drop(columns='calcium', inplace=True, axis=1)"
   ]
  },
  {
   "cell_type": "code",
   "execution_count": null,
   "id": "3a10cdc2",
   "metadata": {},
   "outputs": [],
   "source": [
    "# then we have to make some changes in some variables types \n",
    "# Converting restaurant, item to string\n",
    "data['restaurant'] = data['restaurant'].astype(\"string\")\n",
    "data['item'] = data['item'].astype(\"string\")"
   ]
  },
  {
   "cell_type": "code",
   "execution_count": null,
   "id": "d44bcac6",
   "metadata": {},
   "outputs": [],
   "source": [
    "# showing the dataset info after converting the variabe types and removing unneeded columns\n",
    "data.info()"
   ]
  },
  {
   "attachments": {},
   "cell_type": "markdown",
   "id": "4254ee78",
   "metadata": {},
   "source": [
    "# Dropping rows with missing values\n",
    "we only need the rows that has all the nutrition information\n",
    "so as we can see that the dataset does not contain any missing values"
   ]
  },
  {
   "cell_type": "code",
   "execution_count": null,
   "id": "598c6ffe",
   "metadata": {},
   "outputs": [],
   "source": [
    "#drop rows with missing values\n",
    "data = data.dropna()"
   ]
  },
  {
   "cell_type": "code",
   "execution_count": null,
   "id": "5d38d3d5",
   "metadata": {},
   "outputs": [],
   "source": [
    "#dataset info after dropping rows with missing values\n",
    "data.isnull().sum()"
   ]
  },
  {
   "cell_type": "code",
   "execution_count": null,
   "id": "1f86b69b",
   "metadata": {},
   "outputs": [],
   "source": [
    "#number of observation after dropping rows with missing values\n",
    "len(data)"
   ]
  }
 ],
 "metadata": {
  "kernelspec": {
   "display_name": "Python 3",
   "language": "python",
   "name": "python3"
  },
  "language_info": {
   "codemirror_mode": {
    "name": "ipython",
    "version": 3
   },
   "file_extension": ".py",
   "mimetype": "text/x-python",
   "name": "python",
   "nbconvert_exporter": "python",
   "pygments_lexer": "ipython3",
   "version": "3.8.9 (default, May 17 2022, 12:55:41) \n[Clang 13.1.6 (clang-1316.0.21.2.5)]"
  },
  "vscode": {
   "interpreter": {
    "hash": "31f2aee4e71d21fbe5cf8b01ff0e069b9275f58929596ceb00d14d90e3e16cd6"
   }
  }
 },
 "nbformat": 4,
 "nbformat_minor": 5
}
